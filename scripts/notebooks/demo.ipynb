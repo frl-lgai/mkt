{
 "cells": [
  {
   "cell_type": "code",
   "execution_count": 1,
   "id": "dc621f50-4d03-4b10-848f-7d3a26ee17f8",
   "metadata": {},
   "outputs": [
    {
     "name": "stderr",
     "output_type": "stream",
     "text": [
      "/home/dhlee347/anaconda3/envs/mkt/lib/python3.8/site-packages/tqdm/auto.py:22: TqdmWarning: IProgress not found. Please update jupyter and ipywidgets. See https://ipywidgets.readthedocs.io/en/stable/user_install.html\n",
      "  from .autonotebook import tqdm as notebook_tqdm\n"
     ]
    }
   ],
   "source": [
    "from transformers import AutoConfig, AutoModelForCausalLM, AutoTokenizer"
   ]
  },
  {
   "cell_type": "code",
   "execution_count": 2,
   "id": "04c1697a-1d68-4e84-904f-4948f3fc2793",
   "metadata": {},
   "outputs": [
    {
     "data": {
      "text/plain": [
       "Embedding(102400, 4096)"
      ]
     },
     "execution_count": 2,
     "metadata": {},
     "output_type": "execute_result"
    }
   ],
   "source": [
    "model_name = \"/w/exp/mkt/model_8.8B_BI_MT_02-4th/checkpoint-20\"\n",
    "\n",
    "config = AutoConfig.from_pretrained(model_name)\n",
    "config.gradient_checkpointing = True\n",
    "config.use_cache = False\n",
    "\n",
    "tokenizer = AutoTokenizer.from_pretrained(model_name)\n",
    "tokenizer.pad_token = tokenizer.eos_token\n",
    "\n",
    "model = AutoModelForCausalLM.from_pretrained(model_name, config=config).to(\"cuda\")\n",
    "model.resize_token_embeddings(len(tokenizer))"
   ]
  },
  {
   "cell_type": "code",
   "execution_count": 14,
   "id": "e4a4cfe9-3d91-4ae5-b0a2-ac9b7d1dd2a4",
   "metadata": {},
   "outputs": [],
   "source": [
    "prompt= \"\"\"다음의 상품을 홍보하는 창의적인 마케팅 문구를 작성해 보세요.\n",
    "[회사] 동아오츠카\n",
    "[카테고리] 식품, 음료, 주류\n",
    "[분류]\n",
    "[상품명] 오로나민C\n",
    "[마케팅 문구] \"\"\""
   ]
  },
  {
   "cell_type": "code",
   "execution_count": 15,
   "id": "2dcc4804-69d0-4b6c-bce6-230cc5166fc6",
   "metadata": {},
   "outputs": [
    {
     "name": "stdout",
     "output_type": "stream",
     "text": [
      "----------------------------------------------------------------------Temperature=1.8------------------------------\n",
      "오늘 나는 에너지 뿜뿜하는데 나보다도 땀많은 박보결 체력방전\n",
      "----------------------------------------------------------------------Temperature=0.45------------------------------\n",
      "쨍하고 해뜰날은 아직 멀었나요? 피곤한 당신에게 오로나민C가 필요합니다\n",
      "----------------------------------------------------------------------Temperature=1.2------------------------------\n",
      "비타민으로 채우기 힘겨웠던 무더위 속 나의 활력 비타민\n",
      "----------------------------------------------------------------------Temperature=2.0------------------------------\n",
      "비타민 C 10 배로 활력 있게 살아나는 너도나도 C 타임!\n",
      "\"이런 내 사랑 이런 남자 또 없습니다\"\" 비타민처럼 내 활력은 널 향해있어 C타임대.\"\n",
      "----------------------------------------------------------------------Temperature=1.7------------------------------\n",
      "어떤 맛인들 어때. 하나 되는 세상으로\n",
      "----------------------------------------------------------------------Temperature=0.28------------------------------\n",
      "비타민C가 피로회복에 좋다는 건 누구나 아는 사실\n",
      "----------------------------------------------------------------------Temperature=1.8------------------------------\n",
      "당신의 오늘을 더욱 설레고 가치있게\n",
      "----------------------------------------------------------------------Temperature=0.24------------------------------\n",
      "비타민C가 피로회복에 좋다는 건 누구나 아는 사실!\n",
      "----------------------------------------------------------------------Temperature=0.57------------------------------\n",
      "힘들어도 웃는 게 일류다, 힘나는 말이 필요할 땐?\n",
      "----------------------------------------------------------------------Temperature=1.6------------------------------\n",
      "쨍 하고 해돋이가 뜨나 했더니 우르르 쾅! 올해 처음만난 친구야 반가움의 하이파이브\n",
      "2020년, 첫 시작 '오로나민C'와 기분 좋아요\n"
     ]
    }
   ],
   "source": [
    "from random import random\n",
    "\n",
    "def get_label(gen_ids):\n",
    "    generated = tokenizer.decode(gen_ids)\n",
    "    start_index = generated.find(\"[마케팅 문구]\") + 9\n",
    "    label = generated[start_index:].replace(\"[EOS]\", \"\").strip()\n",
    "    return label\n",
    "\n",
    "input_ids = tokenizer.encode(prompt, return_tensors='pt').to(\"cuda\")\n",
    "\n",
    "for i in range(10):\n",
    "    temp = random()*2.0\n",
    "    gen_ids = model.generate(input_ids,\n",
    "                             max_length=256,\n",
    "                             repetition_penalty=2.0,\n",
    "                             do_sample=True,\n",
    "                             temperature=temp,\n",
    "                             pad_token_id=tokenizer.pad_token_id,\n",
    "                             eos_token_id=tokenizer.eos_token_id,\n",
    "                             bos_token_id=tokenizer.bos_token_id,\n",
    "                             use_cache=True)\n",
    "    print(f\"{'-'*70}Temperature={temp:.2}{'-'*30}\")\n",
    "    print(get_label(gen_ids[0]))"
   ]
  },
  {
   "cell_type": "code",
   "execution_count": null,
   "id": "c289ff22-fb3f-43f7-a44e-4acb720f6b48",
   "metadata": {},
   "outputs": [],
   "source": []
  }
 ],
 "metadata": {
  "kernelspec": {
   "display_name": "Python 3 (ipykernel)",
   "language": "python",
   "name": "python3"
  },
  "language_info": {
   "codemirror_mode": {
    "name": "ipython",
    "version": 3
   },
   "file_extension": ".py",
   "mimetype": "text/x-python",
   "name": "python",
   "nbconvert_exporter": "python",
   "pygments_lexer": "ipython3",
   "version": "3.8.13"
  }
 },
 "nbformat": 4,
 "nbformat_minor": 5
}
